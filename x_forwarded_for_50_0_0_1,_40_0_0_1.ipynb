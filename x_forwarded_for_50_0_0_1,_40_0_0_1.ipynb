{
  "cells": [
    {
      "cell_type": "markdown",
      "metadata": {
        "id": "view-in-github",
        "colab_type": "text"
      },
      "source": [
        "<a href=\"https://colab.research.google.com/github/cloudius77/new/blob/main/x_forwarded_for_50_0_0_1%2C_40_0_0_1.ipynb\" target=\"_parent\"><img src=\"https://colab.research.google.com/assets/colab-badge.svg\" alt=\"Open In Colab\"/></a>"
      ]
    },
    {
      "cell_type": "markdown",
      "source": [
        "The X-Forwarded-For header is a standard HTTP header that can be used to indicate the IP addresses that a request has flowed through on its way from the client to the server. The header value is a comma-separated list of IP addresses, with the first IP address being the one that is closest to the client.\n",
        "\n",
        "In your case, the X-Forwarded-For header value is `50.0.0.1, 40.0.0.1`. This means that the request has flowed through two proxies, with the first proxy having the IP address 50.0.0.1 and the second proxy having the IP address 40.0.0.1.\n",
        "\n",
        "The original client IP address is 50.0.0.1. This is the IP address of the machine that made the initial request to the first proxy.\n",
        "\n",
        "The X-Forwarded-For header is often used by load balancers and proxies to preserve the original client IP address for security and auditing purposes.\n",
        "\n",
        "The following code snippet can be used to extract the original client IP address from the X-Forwarded-For header:"
      ],
      "metadata": {
        "id": "1foa6JEX6y3b"
      }
    },
    {
      "cell_type": "code",
      "source": [
        "import re\n",
        "\n",
        "def get_original_client_ip(x_forwarded_for):\n",
        "  \"\"\"Extracts the original client IP address from the X-Forwarded-For header.\n",
        "\n",
        "  Args:\n",
        "    x_forwarded_for: The X-Forwarded-For header value.\n",
        "\n",
        "  Returns:\n",
        "    The original client IP address.\n",
        "  \"\"\"\n",
        "\n",
        "  ips = x_forwarded_for.split(\",\")\n",
        "  for ip in ips:\n",
        "    ip = ip.strip()\n",
        "    if not ip:\n",
        "      continue\n",
        "\n",
        "    if ip.startswith(\"10.\") or ip.startswith(\"172.\") or ip.startswith(\"192.168.\"):\n",
        "      # This is an RFC1918 address, so it is not the original client IP address.\n",
        "      continue\n",
        "\n",
        "    return ip\n",
        "\n",
        "  return None"
      ],
      "outputs": [],
      "execution_count": 1,
      "metadata": {
        "id": "4MCnHWed6y3p"
      }
    },
    {
      "cell_type": "markdown",
      "source": [
        "This code snippet first splits the X-Forwarded-For header value on commas. It then iterates over the resulting IP addresses and removes any blank or invalid IP addresses. It then checks if the remaining IP addresses are RFC1918 addresses. If they are, then they are not the original client IP address. The first IP address that is not an RFC1918 address is the original client IP address.\n",
        "\n",
        "If the X-Forwarded-For header is not present, or if it does not contain any valid IP addresses, then the original client IP address is `None`.\n",
        "\n",
        "In your case, the original client IP address is `50.0.0.1`. This is because the first IP address in the X-Forwarded-For header value is not an RFC1918 address.\n",
        "\n",
        "I hope this helps! Let me know if you have any other questions."
      ],
      "metadata": {
        "id": "zzLUgNnv6y3u"
      }
    }
  ],
  "metadata": {
    "colab": {
      "provenance": [],
      "include_colab_link": true
    },
    "kernelspec": {
      "display_name": "Python 3",
      "name": "python3"
    }
  },
  "nbformat": 4,
  "nbformat_minor": 0
}