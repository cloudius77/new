{
  "nbformat": 4,
  "nbformat_minor": 0,
  "metadata": {
    "colab": {
      "provenance": [],
      "authorship_tag": "ABX9TyPLqJeGl5nUWS6TePzE666E",
      "include_colab_link": true
    },
    "kernelspec": {
      "name": "python3",
      "display_name": "Python 3"
    },
    "language_info": {
      "name": "python"
    }
  },
  "cells": [
    {
      "cell_type": "markdown",
      "metadata": {
        "id": "view-in-github",
        "colab_type": "text"
      },
      "source": [
        "<a href=\"https://colab.research.google.com/github/cloudius77/new/blob/main/networking.ipynb\" target=\"_parent\"><img src=\"https://colab.research.google.com/assets/colab-badge.svg\" alt=\"Open In Colab\"/></a>"
      ]
    },
    {
      "cell_type": "code",
      "execution_count": 1,
      "metadata": {
        "colab": {
          "base_uri": "https://localhost:8080/"
        },
        "id": "x3estMk8dWb2",
        "outputId": "d065b2a6-0b74-4787-a4e2-c6fad1cca6a3"
      },
      "outputs": [
        {
          "output_type": "stream",
          "name": "stdout",
          "text": [
            "The top 20 destination IPs with the largest network throughput are:\n",
            "192.168.1.5\n",
            "192.168.1.4\n",
            "192.168.1.3\n",
            "192.168.1.2\n",
            "192.168.1.1\n"
          ]
        }
      ],
      "source": [
        "import collections\n",
        "\n",
        "def get_top_destination_ips(network_throughput):\n",
        "  \"\"\"Gets the top 20 destination IPs with the largest network throughput.\n",
        "\n",
        "  Args:\n",
        "    network_throughput: A dictionary mapping destination IPs to their network\n",
        "      throughput.\n",
        "\n",
        "  Returns:\n",
        "    A list of the top 20 destination IPs with the largest network throughput.\n",
        "  \"\"\"\n",
        "\n",
        "  sorted_destination_ips = collections.OrderedDict(\n",
        "      sorted(network_throughput.items(), key=lambda x: x[1], reverse=True))\n",
        "  return list(sorted_destination_ips.keys())[:20]\n",
        "\n",
        "\n",
        "if __name__ == \"__main__\":\n",
        "  network_throughput = {\n",
        "      \"192.168.1.1\": 1000,\n",
        "      \"192.168.1.2\": 2000,\n",
        "      \"192.168.1.3\": 3000,\n",
        "      \"192.168.1.4\": 4000,\n",
        "      \"192.168.1.5\": 5000,\n",
        "  }\n",
        "\n",
        "  top_destination_ips = get_top_destination_ips(network_throughput)\n",
        "  print(\"The top 20 destination IPs with the largest network throughput are:\")\n",
        "  for destination_ip in top_destination_ips:\n",
        "    print(destination_ip)\n"
      ]
    }
  ]
}